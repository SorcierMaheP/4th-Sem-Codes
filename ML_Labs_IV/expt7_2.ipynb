{
 "cells": [
  {
   "cell_type": "code",
   "execution_count": null,
   "metadata": {},
   "outputs": [],
   "source": [
    "import numpy as np\n",
    "import pandas as pd\n",
    "import seaborn as sns\n",
    "import matplotlib.pyplot as plt\n",
    "%matplotlib inline"
   ]
  },
  {
   "cell_type": "code",
   "execution_count": null,
   "metadata": {},
   "outputs": [],
   "source": [
    "df = pd.read_csv('./penguins_size.csv')\n",
    "df.info()"
   ]
  },
  {
   "cell_type": "code",
   "execution_count": null,
   "metadata": {},
   "outputs": [],
   "source": [
    "sns.FacetGrid(df, hue=\"species\", height=5) \\\n",
    ".map(plt.scatter, \"flipper_length_mm\", \"culmen_length_mm\") \\\n",
    ".add_legend()"
   ]
  },
  {
   "attachments": {},
   "cell_type": "markdown",
   "metadata": {},
   "source": [
    "From this graph we can infer the following :  \n",
    "1) The ratio between flipper length and bill length is relatively similar  \n",
    "2) The ratio between flipper length and bill length is approximately 5.14  \n",
    "3) The data is similar to that of a regression problem"
   ]
  },
  {
   "cell_type": "code",
   "execution_count": null,
   "metadata": {},
   "outputs": [],
   "source": [
    "sns.FacetGrid(df, hue=\"species\", height=5) \\\n",
    ".map(plt.hist, \"culmen_depth_mm\") \\\n",
    ".add_legend()\n",
    "sns.FacetGrid(df, height=5) \\\n",
    ".map(plt.hist, \"culmen_depth_mm\")"
   ]
  },
  {
   "attachments": {},
   "cell_type": "markdown",
   "metadata": {},
   "source": [
    "From this graph we can infer the following :  \n",
    "1) The bill depth has a substantial variance \n",
    "2) The Adelie species has the largest bill depth amongst other species \n",
    "3) The Chinstrap species has the smallest average bill depth "
   ]
  },
  {
   "cell_type": "code",
   "execution_count": null,
   "metadata": {},
   "outputs": [],
   "source": [
    "sns.barplot(df, x=\"species\", y=\"body_mass_g\" ,hue=\"sex\")"
   ]
  },
  {
   "attachments": {},
   "cell_type": "markdown",
   "metadata": {},
   "source": [
    "From this graph we can infer the following :  \n",
    "1) The males of all species have larger average body masses  \n",
    "2) The gentoo species have the largest body mass  \n",
    "3) The chinstrap has the smallest body mass on average  \n",
    "4) The gentoo species has 3 genders"
   ]
  },
  {
   "cell_type": "code",
   "execution_count": null,
   "metadata": {},
   "outputs": [],
   "source": [
    "sns.boxplot(df, x=\"species\", y=\"flipper_length_mm\")"
   ]
  },
  {
   "attachments": {},
   "cell_type": "markdown",
   "metadata": {},
   "source": [
    "From this graph we can infer the following :  \n",
    "1) The gentoo species have the largest flipper lengths on average  \n",
    "2) The Adelie species has the smallest flipper length on average  \n",
    "3) The chinstrap species has an average flipper length, more on the short side"
   ]
  },
  {
   "cell_type": "code",
   "execution_count": null,
   "metadata": {},
   "outputs": [],
   "source": [
    "x=[\"island\",\"culmen_length_mm\",\"culmen_depth_mm\",\"flipper_length_mm\",\"body_mass_g\",\"sex\"]\n",
    "y=[\"island\",\"culmen_length_mm\",\"culmen_depth_mm\",\"flipper_length_mm\",\"body_mass_g\",\"sex\"]\n",
    "sns.pairplot(df,x_vars=x,y_vars=y,hue=\"species\", height=2, diag_kind=\"hist\")"
   ]
  },
  {
   "attachments": {},
   "cell_type": "markdown",
   "metadata": {},
   "source": [
    "From this graph we can infer the following :  \n",
    "1) The gentoo species are the largest among the 3  \n",
    "2) The Adelie species are the smallest on average  \n",
    "3) The males of all species are generally bigger "
   ]
  }
 ],
 "metadata": {
  "kernelspec": {
   "display_name": "Python 3",
   "language": "python",
   "name": "python3"
  },
  "language_info": {
   "codemirror_mode": {
    "name": "ipython",
    "version": 3
   },
   "file_extension": ".py",
   "mimetype": "text/x-python",
   "name": "python",
   "nbconvert_exporter": "python",
   "pygments_lexer": "ipython3",
   "version": "3.11.3"
  },
  "orig_nbformat": 4
 },
 "nbformat": 4,
 "nbformat_minor": 2
}
