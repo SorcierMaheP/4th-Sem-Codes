{
 "cells": [
  {
   "cell_type": "code",
   "execution_count": null,
   "metadata": {},
   "outputs": [],
   "source": [
    "import numpy as np\n",
    "from scipy.linalg import cholesky\n",
    "from pprint import pprint "
   ]
  },
  {
   "cell_type": "code",
   "execution_count": null,
   "metadata": {},
   "outputs": [],
   "source": [
    "a=np.array([[1,-2j],[2j,5]])\n",
    "print(\"The 2x2 array is: \\n\",a)\n",
    "print(\"The cholesky decomposition of a is:\")\n",
    "print(cholesky(a,lower=True),end=\"\\n\\n\")\n",
    "print(cholesky(a))"
   ]
  },
  {
   "cell_type": "code",
   "execution_count": null,
   "metadata": {},
   "outputs": [],
   "source": [
    "b=np.array([[18,22,54,42],[22,70,86,62],[54,86,174,134],[42,62,134,106]])\n",
    "print(\"The 4x4 array is: \\n\",b)\n",
    "print(\"The cholesky decomposition of b is:\")\n",
    "print(cholesky(b,lower=True),end=\"\\n\\n\")\n",
    "print(cholesky(b))"
   ]
  },
  {
   "cell_type": "code",
   "execution_count": null,
   "metadata": {},
   "outputs": [],
   "source": [
    "print(\"Enter the matrix of dimensions 4x4.\")\n",
    "c = np.array([[int(i) for i in input(\n",
    "                f\"Enter elements of row {j} of matrix c: \").split()] for j in range(4)])\n",
    "print(\"The 4x4 array is: \\n\",c)\n",
    "print(\"The cholesky decomposition of c is:\")\n",
    "print(cholesky(c,lower=True),end=\"\\n\\n\")\n",
    "print(cholesky(c))"
   ]
  },
  {
   "cell_type": "code",
   "execution_count": null,
   "metadata": {},
   "outputs": [],
   "source": [
    "print(\"Enter the matrix of dimensions 4x4.\")\n",
    "d = np.array([[int(i) for i in input(\n",
    "                f\"Enter elements of row {j} of matrix d: \").split()] for j in range(4)])\n",
    "print(\"The 4x4 array is:\")\n",
    "pprint(d)\n",
    "print(\"The cholesky decomposition of d is:\")\n",
    "pprint(cholesky(d,lower=True))\n",
    "print()\n",
    "pprint(cholesky(d))"
   ]
  }
 ],
 "metadata": {
  "kernelspec": {
   "display_name": "Python 3",
   "language": "python",
   "name": "python3"
  },
  "language_info": {
   "codemirror_mode": {
    "name": "ipython",
    "version": 3
   },
   "file_extension": ".py",
   "mimetype": "text/x-python",
   "name": "python",
   "nbconvert_exporter": "python",
   "pygments_lexer": "ipython3",
   "version": "3.11.3"
  },
  "orig_nbformat": 4
 },
 "nbformat": 4,
 "nbformat_minor": 2
}
