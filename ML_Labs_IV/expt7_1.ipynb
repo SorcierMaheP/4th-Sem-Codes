{
 "cells": [
  {
   "cell_type": "code",
   "execution_count": null,
   "metadata": {},
   "outputs": [],
   "source": [
    "import matplotlib.pyplot as plt\n",
    "%matplotlib inline\n",
    "import numpy as np\n",
    "from math import sin, factorial,pi"
   ]
  },
  {
   "cell_type": "code",
   "execution_count": null,
   "metadata": {},
   "outputs": [],
   "source": [
    "def taylor_sine(x,n):\n",
    "    taylor_sin = 0\n",
    "    for i in range(1,n+1):\n",
    "        taylor_sin += (-1)**(i+1)*x**(2*i-1)/factorial(2*i-1)\n",
    "    return taylor_sin\n",
    "print(f\"The taylor sine and actual sine of x=2 is {taylor_sine(2,5)} and {sin(2)} respectively.\")\n"
   ]
  },
  {
   "cell_type": "code",
   "execution_count": null,
   "metadata": {},
   "outputs": [],
   "source": [
    "angles = np.arange(-2*pi,2*pi,0.05)\n",
    "sine = np.sin(angles)\n",
    "fig, ax = plt.subplots()\n",
    "ax.plot(angles,sine)\n",
    "for i in range (1,6): \n",
    "    t_sine = [taylor_sine(angle,i) for angle in angles]\n",
    "    ax.plot(angles,t_sine)\n",
    "label_list = ['sin() function']\n",
    "for i in range(1,6):\n",
    "    label_list.append(f'Taylor Series : {i} terms')\n",
    "ax.legend(label_list, loc=3)\n",
    "plt.xlabel('X axis')\n",
    "plt.ylabel('Y axis')\n",
    "plt.show()"
   ]
  }
 ],
 "metadata": {
  "kernelspec": {
   "display_name": "Python 3",
   "language": "python",
   "name": "python3"
  },
  "language_info": {
   "codemirror_mode": {
    "name": "ipython",
    "version": 3
   },
   "file_extension": ".py",
   "mimetype": "text/x-python",
   "name": "python",
   "nbconvert_exporter": "python",
   "pygments_lexer": "ipython3",
   "version": "3.11.3"
  },
  "orig_nbformat": 4
 },
 "nbformat": 4,
 "nbformat_minor": 2
}
