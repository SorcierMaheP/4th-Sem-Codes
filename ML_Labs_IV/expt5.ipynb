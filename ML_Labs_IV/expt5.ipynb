{
 "cells": [
  {
   "cell_type": "code",
   "execution_count": null,
   "metadata": {},
   "outputs": [],
   "source": [
    "import numpy as np"
   ]
  },
  {
   "cell_type": "code",
   "execution_count": null,
   "metadata": {},
   "outputs": [],
   "source": [
    "a, b = 3, 5\n",
    "print(f\"The values of a and b are {a} and {b}.\")\n",
    "x = np.divide(b, a)\n",
    "print(f\"The value of x is {x}.\")"
   ]
  },
  {
   "cell_type": "code",
   "execution_count": null,
   "metadata": {},
   "outputs": [],
   "source": [
    "A = np.array([[2, -4, 4], [34, 3, -1], [1, 1, 1]])\n",
    "B = np.array(([8, 30, 108]))\n",
    "print(\"\\nA array is:\\n\", A)\n",
    "print(\"\\nB array is:\\n\", B)\n",
    "X = np.linalg.solve(A, B)\n",
    "print(f\"\\nThe values of x, y, z are {X[0]}, {X[1]}, {X[2]}.\")"
   ]
  },
  {
   "cell_type": "code",
   "execution_count": null,
   "metadata": {},
   "outputs": [],
   "source": [
    "n = int(input(\"Enter the number of variables.\"))\n",
    "i = 0\n",
    "print(\"Enter values in the form a1x + a2y + a3z + a4w + ... = b\")\n",
    "equ = []\n",
    "while (i < n):\n",
    "    i = i+1\n",
    "    temp = np.array([int(i) for i in input(f\"Enter equation {i}:\").split()])\n",
    "    equ.append(temp)\n",
    "A = np.array([equ[:-1] for equ in equ])\n",
    "B = np.array([equ[-1] for equ in equ])\n",
    "print()\n",
    "X = np.linalg.solve(A, B)\n",
    "print(\"The solution matrix is :\")\n",
    "print(X)"
   ]
  },
  {
   "cell_type": "code",
   "execution_count": null,
   "metadata": {},
   "outputs": [],
   "source": [
    "import cmath"
   ]
  },
  {
   "cell_type": "code",
   "execution_count": null,
   "metadata": {},
   "outputs": [],
   "source": [
    "a, b, c = 1, 2, 7\n",
    "print(f\"Values of a, b, c are {a}, {b}, {c}.\")\n",
    "discr = (b**2) - (4*a*c)\n",
    "\n",
    "root1 = ((-b) + cmath.sqrt(discr)) / (2 * a)\n",
    "root2 = ((-b) - cmath.sqrt(discr)) / (2 * a)\n",
    "\n",
    "print('The roots are')\n",
    "print(root1)\n",
    "print(root2)"
   ]
  },
  {
   "cell_type": "code",
   "execution_count": null,
   "metadata": {},
   "outputs": [],
   "source": [
    "a, b, c = map(int, input(\"Enter the values of a,b,c.\").split())\n",
    "discr = (b**2) - (4*a*c)\n",
    "\n",
    "root1 = ((-b) + cmath.sqrt(discr)) / (2 * a)\n",
    "root2 = ((-b) - cmath.sqrt(discr)) / (2 * a)\n",
    "\n",
    "print('The roots are')\n",
    "print(root1)\n",
    "print(root2)"
   ]
  }
 ],
 "metadata": {
  "kernelspec": {
   "display_name": "Python 3",
   "language": "python",
   "name": "python3"
  },
  "language_info": {
   "name": "python",
   "version": "3.11.3"
  },
  "orig_nbformat": 4
 },
 "nbformat": 4,
 "nbformat_minor": 2
}
